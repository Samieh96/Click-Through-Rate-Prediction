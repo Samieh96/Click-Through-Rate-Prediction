{
  "nbformat": 4,
  "nbformat_minor": 0,
  "metadata": {
    "colab": {
      "provenance": [],
      "include_colab_link": true
    },
    "kernelspec": {
      "name": "python3",
      "display_name": "Python 3"
    }
  },
  "cells": [
    {
      "cell_type": "markdown",
      "metadata": {
        "id": "view-in-github",
        "colab_type": "text"
      },
      "source": [
        "<a href=\"https://colab.research.google.com/github/Samieh96/Click-Through-Rate-Prediction/blob/main/ctr.ipynb\" target=\"_parent\"><img src=\"https://colab.research.google.com/assets/colab-badge.svg\" alt=\"Open In Colab\"/></a>"
      ]
    },
    {
      "cell_type": "code",
      "metadata": {
        "id": "N8wUw-4Sec0J",
        "colab": {
          "base_uri": "https://localhost:8080/",
          "height": 122
        },
        "outputId": "76b71531-91d9-4f1a-e3c0-fb2cab63c610"
      },
      "source": [
        "from google.colab import drive\n",
        "drive.mount('/content/drive')"
      ],
      "execution_count": null,
      "outputs": [
        {
          "output_type": "stream",
          "text": [
            "Go to this URL in a browser: https://accounts.google.com/o/oauth2/auth?client_id=947318989803-6bn6qk8qdgf4n4g3pfee6491hc0brc4i.apps.googleusercontent.com&redirect_uri=urn%3aietf%3awg%3aoauth%3a2.0%3aoob&scope=email%20https%3a%2f%2fwww.googleapis.com%2fauth%2fdocs.test%20https%3a%2f%2fwww.googleapis.com%2fauth%2fdrive%20https%3a%2f%2fwww.googleapis.com%2fauth%2fdrive.photos.readonly%20https%3a%2f%2fwww.googleapis.com%2fauth%2fpeopleapi.readonly&response_type=code\n",
            "\n",
            "Enter your authorization code:\n",
            "··········\n",
            "Mounted at /content/drive\n"
          ],
          "name": "stdout"
        }
      ]
    },
    {
      "cell_type": "code",
      "metadata": {
        "id": "1jBck6uDkI6_",
        "colab": {
          "base_uri": "https://localhost:8080/",
          "height": 71
        },
        "outputId": "7a9ee6f2-248f-45ff-ba12-0455e2d6cb1d"
      },
      "source": [
        "import pandas as pd\n",
        "import random\n",
        "from scipy.stats import norm\n",
        "import numpy as np\n",
        "import seaborn as sns\n",
        "import matplotlib.pyplot as plt\n",
        "from datetime import datetime, date, time\n",
        "from sklearn.svm import LinearSVC\n",
        "from sklearn import preprocessing\n",
        "from sklearn.preprocessing import MinMaxScaler\n",
        "from sklearn.model_selection import train_test_split\n",
        "from sklearn.metrics import accuracy_score\n",
        "from sklearn.preprocessing import OneHotEncoder"
      ],
      "execution_count": null,
      "outputs": [
        {
          "output_type": "stream",
          "text": [
            "/usr/local/lib/python3.6/dist-packages/statsmodels/tools/_testing.py:19: FutureWarning: pandas.util.testing is deprecated. Use the functions in the public API at pandas.testing instead.\n",
            "  import pandas.util.testing as tm\n"
          ],
          "name": "stderr"
        }
      ]
    },
    {
      "cell_type": "code",
      "metadata": {
        "id": "QYL8p_yRSMfO"
      },
      "source": [
        "train=pd.read_csv('/content/drive/My Drive/Colab Notebooks/1Mtrain.csv.rar (Unzipped Files)/1Mtrain.csv.csv')"
      ],
      "execution_count": null,
      "outputs": []
    },
    {
      "cell_type": "code",
      "metadata": {
        "id": "2lmbGayiF2Dg",
        "colab": {
          "base_uri": "https://localhost:8080/",
          "height": 224
        },
        "outputId": "f267a1ab-51f5-4dc5-b5ce-d992eb3808ad"
      },
      "source": [
        "train.head()"
      ],
      "execution_count": null,
      "outputs": [
        {
          "output_type": "execute_result",
          "data": {
            "text/html": [
              "<div>\n",
              "<style scoped>\n",
              "    .dataframe tbody tr th:only-of-type {\n",
              "        vertical-align: middle;\n",
              "    }\n",
              "\n",
              "    .dataframe tbody tr th {\n",
              "        vertical-align: top;\n",
              "    }\n",
              "\n",
              "    .dataframe thead th {\n",
              "        text-align: right;\n",
              "    }\n",
              "</style>\n",
              "<table border=\"1\" class=\"dataframe\">\n",
              "  <thead>\n",
              "    <tr style=\"text-align: right;\">\n",
              "      <th></th>\n",
              "      <th>id</th>\n",
              "      <th>click</th>\n",
              "      <th>hour</th>\n",
              "      <th>C1</th>\n",
              "      <th>banner_pos</th>\n",
              "      <th>site_id</th>\n",
              "      <th>site_domain</th>\n",
              "      <th>site_category</th>\n",
              "      <th>app_id</th>\n",
              "      <th>app_domain</th>\n",
              "      <th>app_category</th>\n",
              "      <th>device_id</th>\n",
              "      <th>device_ip</th>\n",
              "      <th>device_model</th>\n",
              "      <th>device_type</th>\n",
              "      <th>device_conn_type</th>\n",
              "      <th>C14</th>\n",
              "      <th>C15</th>\n",
              "      <th>C16</th>\n",
              "      <th>C17</th>\n",
              "      <th>C18</th>\n",
              "      <th>C19</th>\n",
              "      <th>C20</th>\n",
              "      <th>C21</th>\n",
              "    </tr>\n",
              "  </thead>\n",
              "  <tbody>\n",
              "    <tr>\n",
              "      <th>0</th>\n",
              "      <td>10016879928769896114</td>\n",
              "      <td>0</td>\n",
              "      <td>14102100</td>\n",
              "      <td>1005</td>\n",
              "      <td>0</td>\n",
              "      <td>83a0ad1a</td>\n",
              "      <td>5c9ae867</td>\n",
              "      <td>f028772b</td>\n",
              "      <td>ecad2386</td>\n",
              "      <td>7801e8d9</td>\n",
              "      <td>07d7df22</td>\n",
              "      <td>a99f214a</td>\n",
              "      <td>f17268a6</td>\n",
              "      <td>575d0d2a</td>\n",
              "      <td>1</td>\n",
              "      <td>0</td>\n",
              "      <td>18945</td>\n",
              "      <td>320</td>\n",
              "      <td>50</td>\n",
              "      <td>2153</td>\n",
              "      <td>3</td>\n",
              "      <td>427</td>\n",
              "      <td>100063</td>\n",
              "      <td>61</td>\n",
              "    </tr>\n",
              "    <tr>\n",
              "      <th>1</th>\n",
              "      <td>10018076683759767024</td>\n",
              "      <td>1</td>\n",
              "      <td>14102100</td>\n",
              "      <td>1002</td>\n",
              "      <td>0</td>\n",
              "      <td>84c7ba46</td>\n",
              "      <td>c4e18dd6</td>\n",
              "      <td>50e219e0</td>\n",
              "      <td>ecad2386</td>\n",
              "      <td>7801e8d9</td>\n",
              "      <td>07d7df22</td>\n",
              "      <td>e62f1261</td>\n",
              "      <td>7b485f88</td>\n",
              "      <td>cf19f7f7</td>\n",
              "      <td>0</td>\n",
              "      <td>0</td>\n",
              "      <td>21300</td>\n",
              "      <td>320</td>\n",
              "      <td>50</td>\n",
              "      <td>2446</td>\n",
              "      <td>3</td>\n",
              "      <td>171</td>\n",
              "      <td>100228</td>\n",
              "      <td>156</td>\n",
              "    </tr>\n",
              "    <tr>\n",
              "      <th>2</th>\n",
              "      <td>10022961149355219548</td>\n",
              "      <td>0</td>\n",
              "      <td>14102100</td>\n",
              "      <td>1005</td>\n",
              "      <td>0</td>\n",
              "      <td>85f751fd</td>\n",
              "      <td>c4e18dd6</td>\n",
              "      <td>50e219e0</td>\n",
              "      <td>e2fcccd2</td>\n",
              "      <td>5c5a694b</td>\n",
              "      <td>0f2161f8</td>\n",
              "      <td>bd7c02a1</td>\n",
              "      <td>51197d98</td>\n",
              "      <td>2203a096</td>\n",
              "      <td>1</td>\n",
              "      <td>0</td>\n",
              "      <td>4687</td>\n",
              "      <td>320</td>\n",
              "      <td>50</td>\n",
              "      <td>423</td>\n",
              "      <td>2</td>\n",
              "      <td>39</td>\n",
              "      <td>100148</td>\n",
              "      <td>32</td>\n",
              "    </tr>\n",
              "    <tr>\n",
              "      <th>3</th>\n",
              "      <td>10032264153126123156</td>\n",
              "      <td>0</td>\n",
              "      <td>14102100</td>\n",
              "      <td>1005</td>\n",
              "      <td>0</td>\n",
              "      <td>1fbe01fe</td>\n",
              "      <td>f3845767</td>\n",
              "      <td>28905ebd</td>\n",
              "      <td>ecad2386</td>\n",
              "      <td>7801e8d9</td>\n",
              "      <td>07d7df22</td>\n",
              "      <td>a99f214a</td>\n",
              "      <td>27cab2a3</td>\n",
              "      <td>ecb851b2</td>\n",
              "      <td>1</td>\n",
              "      <td>0</td>\n",
              "      <td>15705</td>\n",
              "      <td>320</td>\n",
              "      <td>50</td>\n",
              "      <td>1722</td>\n",
              "      <td>0</td>\n",
              "      <td>35</td>\n",
              "      <td>100084</td>\n",
              "      <td>79</td>\n",
              "    </tr>\n",
              "    <tr>\n",
              "      <th>4</th>\n",
              "      <td>10045287352545275389</td>\n",
              "      <td>0</td>\n",
              "      <td>14102100</td>\n",
              "      <td>1005</td>\n",
              "      <td>0</td>\n",
              "      <td>85f751fd</td>\n",
              "      <td>c4e18dd6</td>\n",
              "      <td>50e219e0</td>\n",
              "      <td>1779deee</td>\n",
              "      <td>2347f47a</td>\n",
              "      <td>f95efa07</td>\n",
              "      <td>a99f214a</td>\n",
              "      <td>d5d1473b</td>\n",
              "      <td>cdfde03b</td>\n",
              "      <td>1</td>\n",
              "      <td>0</td>\n",
              "      <td>20596</td>\n",
              "      <td>320</td>\n",
              "      <td>50</td>\n",
              "      <td>2161</td>\n",
              "      <td>0</td>\n",
              "      <td>35</td>\n",
              "      <td>-1</td>\n",
              "      <td>157</td>\n",
              "    </tr>\n",
              "  </tbody>\n",
              "</table>\n",
              "</div>"
            ],
            "text/plain": [
              "                     id  click      hour    C1  ...  C18  C19     C20  C21\n",
              "0  10016879928769896114      0  14102100  1005  ...    3  427  100063   61\n",
              "1  10018076683759767024      1  14102100  1002  ...    3  171  100228  156\n",
              "2  10022961149355219548      0  14102100  1005  ...    2   39  100148   32\n",
              "3  10032264153126123156      0  14102100  1005  ...    0   35  100084   79\n",
              "4  10045287352545275389      0  14102100  1005  ...    0   35      -1  157\n",
              "\n",
              "[5 rows x 24 columns]"
            ]
          },
          "metadata": {
            "tags": []
          },
          "execution_count": 4
        }
      ]
    },
    {
      "cell_type": "code",
      "metadata": {
        "id": "Rw7QkCdsF_6C",
        "colab": {
          "base_uri": "https://localhost:8080/",
          "height": 793
        },
        "outputId": "88527a36-6825-4ec7-e7bc-61da24df8a2d"
      },
      "source": [
        "train.describe(include = 'all').T"
      ],
      "execution_count": null,
      "outputs": [
        {
          "output_type": "execute_result",
          "data": {
            "text/html": [
              "<div>\n",
              "<style scoped>\n",
              "    .dataframe tbody tr th:only-of-type {\n",
              "        vertical-align: middle;\n",
              "    }\n",
              "\n",
              "    .dataframe tbody tr th {\n",
              "        vertical-align: top;\n",
              "    }\n",
              "\n",
              "    .dataframe thead th {\n",
              "        text-align: right;\n",
              "    }\n",
              "</style>\n",
              "<table border=\"1\" class=\"dataframe\">\n",
              "  <thead>\n",
              "    <tr style=\"text-align: right;\">\n",
              "      <th></th>\n",
              "      <th>count</th>\n",
              "      <th>unique</th>\n",
              "      <th>top</th>\n",
              "      <th>freq</th>\n",
              "      <th>mean</th>\n",
              "      <th>std</th>\n",
              "      <th>min</th>\n",
              "      <th>25%</th>\n",
              "      <th>50%</th>\n",
              "      <th>75%</th>\n",
              "      <th>max</th>\n",
              "    </tr>\n",
              "  </thead>\n",
              "  <tbody>\n",
              "    <tr>\n",
              "      <th>id</th>\n",
              "      <td>1e+06</td>\n",
              "      <td>NaN</td>\n",
              "      <td>NaN</td>\n",
              "      <td>NaN</td>\n",
              "      <td>9.22487e+18</td>\n",
              "      <td>5.32521e+18</td>\n",
              "      <td>4.88676e+12</td>\n",
              "      <td>4.61305e+18</td>\n",
              "      <td>9.22696e+18</td>\n",
              "      <td>1.38365e+19</td>\n",
              "      <td>1.84467e+19</td>\n",
              "    </tr>\n",
              "    <tr>\n",
              "      <th>click</th>\n",
              "      <td>1e+06</td>\n",
              "      <td>NaN</td>\n",
              "      <td>NaN</td>\n",
              "      <td>NaN</td>\n",
              "      <td>0.170168</td>\n",
              "      <td>0.375781</td>\n",
              "      <td>0</td>\n",
              "      <td>0</td>\n",
              "      <td>0</td>\n",
              "      <td>0</td>\n",
              "      <td>1</td>\n",
              "    </tr>\n",
              "    <tr>\n",
              "      <th>hour</th>\n",
              "      <td>1e+06</td>\n",
              "      <td>NaN</td>\n",
              "      <td>NaN</td>\n",
              "      <td>NaN</td>\n",
              "      <td>1.41026e+07</td>\n",
              "      <td>296.75</td>\n",
              "      <td>1.41021e+07</td>\n",
              "      <td>1.41023e+07</td>\n",
              "      <td>1.41026e+07</td>\n",
              "      <td>1.41028e+07</td>\n",
              "      <td>1.4103e+07</td>\n",
              "    </tr>\n",
              "    <tr>\n",
              "      <th>C1</th>\n",
              "      <td>1e+06</td>\n",
              "      <td>NaN</td>\n",
              "      <td>NaN</td>\n",
              "      <td>NaN</td>\n",
              "      <td>1004.97</td>\n",
              "      <td>1.09166</td>\n",
              "      <td>1001</td>\n",
              "      <td>1005</td>\n",
              "      <td>1005</td>\n",
              "      <td>1005</td>\n",
              "      <td>1012</td>\n",
              "    </tr>\n",
              "    <tr>\n",
              "      <th>banner_pos</th>\n",
              "      <td>1e+06</td>\n",
              "      <td>NaN</td>\n",
              "      <td>NaN</td>\n",
              "      <td>NaN</td>\n",
              "      <td>0.287528</td>\n",
              "      <td>0.505941</td>\n",
              "      <td>0</td>\n",
              "      <td>0</td>\n",
              "      <td>0</td>\n",
              "      <td>1</td>\n",
              "      <td>7</td>\n",
              "    </tr>\n",
              "    <tr>\n",
              "      <th>site_id</th>\n",
              "      <td>1000000</td>\n",
              "      <td>2682</td>\n",
              "      <td>85f751fd</td>\n",
              "      <td>361152</td>\n",
              "      <td>NaN</td>\n",
              "      <td>NaN</td>\n",
              "      <td>NaN</td>\n",
              "      <td>NaN</td>\n",
              "      <td>NaN</td>\n",
              "      <td>NaN</td>\n",
              "      <td>NaN</td>\n",
              "    </tr>\n",
              "    <tr>\n",
              "      <th>site_domain</th>\n",
              "      <td>1000000</td>\n",
              "      <td>2862</td>\n",
              "      <td>c4e18dd6</td>\n",
              "      <td>374395</td>\n",
              "      <td>NaN</td>\n",
              "      <td>NaN</td>\n",
              "      <td>NaN</td>\n",
              "      <td>NaN</td>\n",
              "      <td>NaN</td>\n",
              "      <td>NaN</td>\n",
              "      <td>NaN</td>\n",
              "    </tr>\n",
              "    <tr>\n",
              "      <th>site_category</th>\n",
              "      <td>1000000</td>\n",
              "      <td>22</td>\n",
              "      <td>50e219e0</td>\n",
              "      <td>409472</td>\n",
              "      <td>NaN</td>\n",
              "      <td>NaN</td>\n",
              "      <td>NaN</td>\n",
              "      <td>NaN</td>\n",
              "      <td>NaN</td>\n",
              "      <td>NaN</td>\n",
              "      <td>NaN</td>\n",
              "    </tr>\n",
              "    <tr>\n",
              "      <th>app_id</th>\n",
              "      <td>1000000</td>\n",
              "      <td>3194</td>\n",
              "      <td>ecad2386</td>\n",
              "      <td>638848</td>\n",
              "      <td>NaN</td>\n",
              "      <td>NaN</td>\n",
              "      <td>NaN</td>\n",
              "      <td>NaN</td>\n",
              "      <td>NaN</td>\n",
              "      <td>NaN</td>\n",
              "      <td>NaN</td>\n",
              "    </tr>\n",
              "    <tr>\n",
              "      <th>app_domain</th>\n",
              "      <td>1000000</td>\n",
              "      <td>210</td>\n",
              "      <td>7801e8d9</td>\n",
              "      <td>673263</td>\n",
              "      <td>NaN</td>\n",
              "      <td>NaN</td>\n",
              "      <td>NaN</td>\n",
              "      <td>NaN</td>\n",
              "      <td>NaN</td>\n",
              "      <td>NaN</td>\n",
              "      <td>NaN</td>\n",
              "    </tr>\n",
              "    <tr>\n",
              "      <th>app_category</th>\n",
              "      <td>1000000</td>\n",
              "      <td>27</td>\n",
              "      <td>07d7df22</td>\n",
              "      <td>647091</td>\n",
              "      <td>NaN</td>\n",
              "      <td>NaN</td>\n",
              "      <td>NaN</td>\n",
              "      <td>NaN</td>\n",
              "      <td>NaN</td>\n",
              "      <td>NaN</td>\n",
              "      <td>NaN</td>\n",
              "    </tr>\n",
              "    <tr>\n",
              "      <th>device_id</th>\n",
              "      <td>1000000</td>\n",
              "      <td>150617</td>\n",
              "      <td>a99f214a</td>\n",
              "      <td>824789</td>\n",
              "      <td>NaN</td>\n",
              "      <td>NaN</td>\n",
              "      <td>NaN</td>\n",
              "      <td>NaN</td>\n",
              "      <td>NaN</td>\n",
              "      <td>NaN</td>\n",
              "      <td>NaN</td>\n",
              "    </tr>\n",
              "    <tr>\n",
              "      <th>device_ip</th>\n",
              "      <td>1000000</td>\n",
              "      <td>554872</td>\n",
              "      <td>6b9769f2</td>\n",
              "      <td>5116</td>\n",
              "      <td>NaN</td>\n",
              "      <td>NaN</td>\n",
              "      <td>NaN</td>\n",
              "      <td>NaN</td>\n",
              "      <td>NaN</td>\n",
              "      <td>NaN</td>\n",
              "      <td>NaN</td>\n",
              "    </tr>\n",
              "    <tr>\n",
              "      <th>device_model</th>\n",
              "      <td>1000000</td>\n",
              "      <td>5181</td>\n",
              "      <td>8a4875bd</td>\n",
              "      <td>60610</td>\n",
              "      <td>NaN</td>\n",
              "      <td>NaN</td>\n",
              "      <td>NaN</td>\n",
              "      <td>NaN</td>\n",
              "      <td>NaN</td>\n",
              "      <td>NaN</td>\n",
              "      <td>NaN</td>\n",
              "    </tr>\n",
              "    <tr>\n",
              "      <th>device_type</th>\n",
              "      <td>1e+06</td>\n",
              "      <td>NaN</td>\n",
              "      <td>NaN</td>\n",
              "      <td>NaN</td>\n",
              "      <td>1.01397</td>\n",
              "      <td>0.524743</td>\n",
              "      <td>0</td>\n",
              "      <td>1</td>\n",
              "      <td>1</td>\n",
              "      <td>1</td>\n",
              "      <td>5</td>\n",
              "    </tr>\n",
              "    <tr>\n",
              "      <th>device_conn_type</th>\n",
              "      <td>1e+06</td>\n",
              "      <td>NaN</td>\n",
              "      <td>NaN</td>\n",
              "      <td>NaN</td>\n",
              "      <td>0.330373</td>\n",
              "      <td>0.85379</td>\n",
              "      <td>0</td>\n",
              "      <td>0</td>\n",
              "      <td>0</td>\n",
              "      <td>0</td>\n",
              "      <td>5</td>\n",
              "    </tr>\n",
              "    <tr>\n",
              "      <th>C14</th>\n",
              "      <td>1e+06</td>\n",
              "      <td>NaN</td>\n",
              "      <td>NaN</td>\n",
              "      <td>NaN</td>\n",
              "      <td>18844.7</td>\n",
              "      <td>4958.86</td>\n",
              "      <td>375</td>\n",
              "      <td>16920</td>\n",
              "      <td>20346</td>\n",
              "      <td>21894</td>\n",
              "      <td>24052</td>\n",
              "    </tr>\n",
              "    <tr>\n",
              "      <th>C15</th>\n",
              "      <td>1e+06</td>\n",
              "      <td>NaN</td>\n",
              "      <td>NaN</td>\n",
              "      <td>NaN</td>\n",
              "      <td>318.882</td>\n",
              "      <td>21.3488</td>\n",
              "      <td>120</td>\n",
              "      <td>320</td>\n",
              "      <td>320</td>\n",
              "      <td>320</td>\n",
              "      <td>1024</td>\n",
              "    </tr>\n",
              "    <tr>\n",
              "      <th>C16</th>\n",
              "      <td>1e+06</td>\n",
              "      <td>NaN</td>\n",
              "      <td>NaN</td>\n",
              "      <td>NaN</td>\n",
              "      <td>60.0944</td>\n",
              "      <td>47.2509</td>\n",
              "      <td>20</td>\n",
              "      <td>50</td>\n",
              "      <td>50</td>\n",
              "      <td>50</td>\n",
              "      <td>1024</td>\n",
              "    </tr>\n",
              "    <tr>\n",
              "      <th>C17</th>\n",
              "      <td>1e+06</td>\n",
              "      <td>NaN</td>\n",
              "      <td>NaN</td>\n",
              "      <td>NaN</td>\n",
              "      <td>2113.04</td>\n",
              "      <td>609.288</td>\n",
              "      <td>112</td>\n",
              "      <td>1863</td>\n",
              "      <td>2323</td>\n",
              "      <td>2526</td>\n",
              "      <td>2758</td>\n",
              "    </tr>\n",
              "    <tr>\n",
              "      <th>C18</th>\n",
              "      <td>1e+06</td>\n",
              "      <td>NaN</td>\n",
              "      <td>NaN</td>\n",
              "      <td>NaN</td>\n",
              "      <td>1.4309</td>\n",
              "      <td>1.32593</td>\n",
              "      <td>0</td>\n",
              "      <td>0</td>\n",
              "      <td>2</td>\n",
              "      <td>3</td>\n",
              "      <td>3</td>\n",
              "    </tr>\n",
              "    <tr>\n",
              "      <th>C19</th>\n",
              "      <td>1e+06</td>\n",
              "      <td>NaN</td>\n",
              "      <td>NaN</td>\n",
              "      <td>NaN</td>\n",
              "      <td>227.426</td>\n",
              "      <td>351.394</td>\n",
              "      <td>33</td>\n",
              "      <td>35</td>\n",
              "      <td>39</td>\n",
              "      <td>171</td>\n",
              "      <td>1839</td>\n",
              "    </tr>\n",
              "    <tr>\n",
              "      <th>C20</th>\n",
              "      <td>1e+06</td>\n",
              "      <td>NaN</td>\n",
              "      <td>NaN</td>\n",
              "      <td>NaN</td>\n",
              "      <td>53187.7</td>\n",
              "      <td>49958.7</td>\n",
              "      <td>-1</td>\n",
              "      <td>-1</td>\n",
              "      <td>100048</td>\n",
              "      <td>100094</td>\n",
              "      <td>100248</td>\n",
              "    </tr>\n",
              "    <tr>\n",
              "      <th>C21</th>\n",
              "      <td>1e+06</td>\n",
              "      <td>NaN</td>\n",
              "      <td>NaN</td>\n",
              "      <td>NaN</td>\n",
              "      <td>83.4097</td>\n",
              "      <td>70.2942</td>\n",
              "      <td>1</td>\n",
              "      <td>23</td>\n",
              "      <td>61</td>\n",
              "      <td>101</td>\n",
              "      <td>255</td>\n",
              "    </tr>\n",
              "  </tbody>\n",
              "</table>\n",
              "</div>"
            ],
            "text/plain": [
              "                    count  unique  ...          75%          max\n",
              "id                  1e+06     NaN  ...  1.38365e+19  1.84467e+19\n",
              "click               1e+06     NaN  ...            0            1\n",
              "hour                1e+06     NaN  ...  1.41028e+07   1.4103e+07\n",
              "C1                  1e+06     NaN  ...         1005         1012\n",
              "banner_pos          1e+06     NaN  ...            1            7\n",
              "site_id           1000000    2682  ...          NaN          NaN\n",
              "site_domain       1000000    2862  ...          NaN          NaN\n",
              "site_category     1000000      22  ...          NaN          NaN\n",
              "app_id            1000000    3194  ...          NaN          NaN\n",
              "app_domain        1000000     210  ...          NaN          NaN\n",
              "app_category      1000000      27  ...          NaN          NaN\n",
              "device_id         1000000  150617  ...          NaN          NaN\n",
              "device_ip         1000000  554872  ...          NaN          NaN\n",
              "device_model      1000000    5181  ...          NaN          NaN\n",
              "device_type         1e+06     NaN  ...            1            5\n",
              "device_conn_type    1e+06     NaN  ...            0            5\n",
              "C14                 1e+06     NaN  ...        21894        24052\n",
              "C15                 1e+06     NaN  ...          320         1024\n",
              "C16                 1e+06     NaN  ...           50         1024\n",
              "C17                 1e+06     NaN  ...         2526         2758\n",
              "C18                 1e+06     NaN  ...            3            3\n",
              "C19                 1e+06     NaN  ...          171         1839\n",
              "C20                 1e+06     NaN  ...       100094       100248\n",
              "C21                 1e+06     NaN  ...          101          255\n",
              "\n",
              "[24 rows x 11 columns]"
            ]
          },
          "metadata": {
            "tags": []
          },
          "execution_count": 5
        }
      ]
    },
    {
      "cell_type": "markdown",
      "metadata": {
        "id": "IU6Ad1JvGR9x"
      },
      "source": [
        "We see 17% of ads were clicked."
      ]
    },
    {
      "cell_type": "code",
      "metadata": {
        "id": "7mTUVU2FGEwG",
        "colab": {
          "base_uri": "https://localhost:8080/",
          "height": 544
        },
        "outputId": "f7ef06b9-2fa6-4783-df4d-f91e1c041fcd"
      },
      "source": [
        "train.info()"
      ],
      "execution_count": null,
      "outputs": [
        {
          "output_type": "stream",
          "text": [
            "<class 'pandas.core.frame.DataFrame'>\n",
            "RangeIndex: 1000000 entries, 0 to 999999\n",
            "Data columns (total 24 columns):\n",
            " #   Column            Non-Null Count    Dtype \n",
            "---  ------            --------------    ----- \n",
            " 0   id                1000000 non-null  uint64\n",
            " 1   click             1000000 non-null  int64 \n",
            " 2   hour              1000000 non-null  int64 \n",
            " 3   C1                1000000 non-null  int64 \n",
            " 4   banner_pos        1000000 non-null  int64 \n",
            " 5   site_id           1000000 non-null  object\n",
            " 6   site_domain       1000000 non-null  object\n",
            " 7   site_category     1000000 non-null  object\n",
            " 8   app_id            1000000 non-null  object\n",
            " 9   app_domain        1000000 non-null  object\n",
            " 10  app_category      1000000 non-null  object\n",
            " 11  device_id         1000000 non-null  object\n",
            " 12  device_ip         1000000 non-null  object\n",
            " 13  device_model      1000000 non-null  object\n",
            " 14  device_type       1000000 non-null  int64 \n",
            " 15  device_conn_type  1000000 non-null  int64 \n",
            " 16  C14               1000000 non-null  int64 \n",
            " 17  C15               1000000 non-null  int64 \n",
            " 18  C16               1000000 non-null  int64 \n",
            " 19  C17               1000000 non-null  int64 \n",
            " 20  C18               1000000 non-null  int64 \n",
            " 21  C19               1000000 non-null  int64 \n",
            " 22  C20               1000000 non-null  int64 \n",
            " 23  C21               1000000 non-null  int64 \n",
            "dtypes: int64(14), object(9), uint64(1)\n",
            "memory usage: 183.1+ MB\n"
          ],
          "name": "stdout"
        }
      ]
    },
    {
      "cell_type": "code",
      "metadata": {
        "id": "nEHxra2lGTdV",
        "colab": {
          "base_uri": "https://localhost:8080/",
          "height": 102
        },
        "outputId": "0ed28005-6e28-4ae9-ae05-188bb81086d1"
      },
      "source": [
        "train.keys()"
      ],
      "execution_count": null,
      "outputs": [
        {
          "output_type": "execute_result",
          "data": {
            "text/plain": [
              "Index(['id', 'click', 'hour', 'C1', 'banner_pos', 'site_id', 'site_domain',\n",
              "       'site_category', 'app_id', 'app_domain', 'app_category', 'device_id',\n",
              "       'device_ip', 'device_model', 'device_type', 'device_conn_type', 'C14',\n",
              "       'C15', 'C16', 'C17', 'C18', 'C19', 'C20', 'C21'],\n",
              "      dtype='object')"
            ]
          },
          "metadata": {
            "tags": []
          },
          "execution_count": 7
        }
      ]
    },
    {
      "cell_type": "code",
      "metadata": {
        "id": "tVCbHvi5Ga4u",
        "colab": {
          "base_uri": "https://localhost:8080/",
          "height": 51
        },
        "outputId": "36e25a0f-f486-4a36-aba9-f4c2e3e1c1bd"
      },
      "source": [
        "print(\"rows: \", train.shape[0])\n",
        "print(\"columns: \", train.shape[1])"
      ],
      "execution_count": null,
      "outputs": [
        {
          "output_type": "stream",
          "text": [
            "rows:  1000000\n",
            "columns:  24\n"
          ],
          "name": "stdout"
        }
      ]
    },
    {
      "cell_type": "code",
      "metadata": {
        "id": "Ca2EfZP-Gfec",
        "colab": {
          "base_uri": "https://localhost:8080/",
          "height": 442
        },
        "outputId": "7de752fe-585c-4ce5-d0e8-a4222463b500"
      },
      "source": [
        "train.isnull().sum().sort_values(ascending = False)"
      ],
      "execution_count": null,
      "outputs": [
        {
          "output_type": "execute_result",
          "data": {
            "text/plain": [
              "C21                 0\n",
              "C20                 0\n",
              "click               0\n",
              "hour                0\n",
              "C1                  0\n",
              "banner_pos          0\n",
              "site_id             0\n",
              "site_domain         0\n",
              "site_category       0\n",
              "app_id              0\n",
              "app_domain          0\n",
              "app_category        0\n",
              "device_id           0\n",
              "device_ip           0\n",
              "device_model        0\n",
              "device_type         0\n",
              "device_conn_type    0\n",
              "C14                 0\n",
              "C15                 0\n",
              "C16                 0\n",
              "C17                 0\n",
              "C18                 0\n",
              "C19                 0\n",
              "id                  0\n",
              "dtype: int64"
            ]
          },
          "metadata": {
            "tags": []
          },
          "execution_count": 9
        }
      ]
    },
    {
      "cell_type": "markdown",
      "metadata": {
        "id": "woeT9TcIGpli"
      },
      "source": [
        "As we see there is  no missing data. Now we want to check if there is any outliers."
      ]
    },
    {
      "cell_type": "code",
      "metadata": {
        "id": "FmmqTIit2Srw",
        "colab": {
          "base_uri": "https://localhost:8080/",
          "height": 289
        },
        "outputId": "67eb55e6-e729-45c4-b80c-9ce2611d36e2"
      },
      "source": [
        "Q1 = train.quantile(0.25)\n",
        "Q3 = train.quantile(0.75)\n",
        "IQR = Q3 - Q1\n",
        "print(IQR)"
      ],
      "execution_count": null,
      "outputs": [
        {
          "output_type": "stream",
          "text": [
            "id                  9.223408e+18\n",
            "click               0.000000e+00\n",
            "hour                5.100000e+02\n",
            "C1                  0.000000e+00\n",
            "banner_pos          1.000000e+00\n",
            "device_type         0.000000e+00\n",
            "device_conn_type    0.000000e+00\n",
            "C14                 4.974000e+03\n",
            "C15                 0.000000e+00\n",
            "C16                 0.000000e+00\n",
            "C17                 6.630000e+02\n",
            "C18                 3.000000e+00\n",
            "C19                 1.360000e+02\n",
            "C20                 1.000950e+05\n",
            "C21                 7.800000e+01\n",
            "dtype: float64\n"
          ],
          "name": "stdout"
        }
      ]
    },
    {
      "cell_type": "code",
      "metadata": {
        "id": "7jVrflPG3xGM",
        "colab": {
          "base_uri": "https://localhost:8080/",
          "height": 34
        },
        "outputId": "86fca0c1-ec86-4ec7-c6c7-de3ebf50eba8"
      },
      "source": [
        "train_out = train[~((train < (Q1 - 1.5 * IQR)) |(train > (Q3 + 1.5 * IQR))).any(axis=1)]\n",
        "print(train_out.shape)"
      ],
      "execution_count": null,
      "outputs": [
        {
          "output_type": "stream",
          "text": [
            "(366558, 24)\n"
          ],
          "name": "stdout"
        }
      ]
    },
    {
      "cell_type": "markdown",
      "metadata": {
        "id": "By-MfzrQ4MRu"
      },
      "source": [
        "We use the IQR scores to remove outliers. The rule of thumb is that anything not in the range of (Q1 - 1.5 IQR) and (Q3 + 1.5 IQR) is an outlier, and can be removed. After doing so, the shape of this data, which comes out to be 366558 observations of 24 variables. This shows that for our data, a lot of records get deleted if we use the IQR method."
      ]
    },
    {
      "cell_type": "code",
      "metadata": {
        "id": "9p6cD9O25OAf",
        "colab": {
          "base_uri": "https://localhost:8080/",
          "height": 224
        },
        "outputId": "a099e0cf-a378-4f41-9ae7-b4308a984696"
      },
      "source": [
        "train_out.head()"
      ],
      "execution_count": null,
      "outputs": [
        {
          "output_type": "execute_result",
          "data": {
            "text/html": [
              "<div>\n",
              "<style scoped>\n",
              "    .dataframe tbody tr th:only-of-type {\n",
              "        vertical-align: middle;\n",
              "    }\n",
              "\n",
              "    .dataframe tbody tr th {\n",
              "        vertical-align: top;\n",
              "    }\n",
              "\n",
              "    .dataframe thead th {\n",
              "        text-align: right;\n",
              "    }\n",
              "</style>\n",
              "<table border=\"1\" class=\"dataframe\">\n",
              "  <thead>\n",
              "    <tr style=\"text-align: right;\">\n",
              "      <th></th>\n",
              "      <th>id</th>\n",
              "      <th>click</th>\n",
              "      <th>hour</th>\n",
              "      <th>C1</th>\n",
              "      <th>banner_pos</th>\n",
              "      <th>site_id</th>\n",
              "      <th>site_domain</th>\n",
              "      <th>site_category</th>\n",
              "      <th>app_id</th>\n",
              "      <th>app_domain</th>\n",
              "      <th>app_category</th>\n",
              "      <th>device_id</th>\n",
              "      <th>device_ip</th>\n",
              "      <th>device_model</th>\n",
              "      <th>device_type</th>\n",
              "      <th>device_conn_type</th>\n",
              "      <th>C14</th>\n",
              "      <th>C15</th>\n",
              "      <th>C16</th>\n",
              "      <th>C17</th>\n",
              "      <th>C18</th>\n",
              "      <th>C19</th>\n",
              "      <th>C20</th>\n",
              "      <th>C21</th>\n",
              "    </tr>\n",
              "  </thead>\n",
              "  <tbody>\n",
              "    <tr>\n",
              "      <th>3</th>\n",
              "      <td>10032264153126123156</td>\n",
              "      <td>0</td>\n",
              "      <td>14102100</td>\n",
              "      <td>1005</td>\n",
              "      <td>0</td>\n",
              "      <td>1fbe01fe</td>\n",
              "      <td>f3845767</td>\n",
              "      <td>28905ebd</td>\n",
              "      <td>ecad2386</td>\n",
              "      <td>7801e8d9</td>\n",
              "      <td>07d7df22</td>\n",
              "      <td>a99f214a</td>\n",
              "      <td>27cab2a3</td>\n",
              "      <td>ecb851b2</td>\n",
              "      <td>1</td>\n",
              "      <td>0</td>\n",
              "      <td>15705</td>\n",
              "      <td>320</td>\n",
              "      <td>50</td>\n",
              "      <td>1722</td>\n",
              "      <td>0</td>\n",
              "      <td>35</td>\n",
              "      <td>100084</td>\n",
              "      <td>79</td>\n",
              "    </tr>\n",
              "    <tr>\n",
              "      <th>4</th>\n",
              "      <td>10045287352545275389</td>\n",
              "      <td>0</td>\n",
              "      <td>14102100</td>\n",
              "      <td>1005</td>\n",
              "      <td>0</td>\n",
              "      <td>85f751fd</td>\n",
              "      <td>c4e18dd6</td>\n",
              "      <td>50e219e0</td>\n",
              "      <td>1779deee</td>\n",
              "      <td>2347f47a</td>\n",
              "      <td>f95efa07</td>\n",
              "      <td>a99f214a</td>\n",
              "      <td>d5d1473b</td>\n",
              "      <td>cdfde03b</td>\n",
              "      <td>1</td>\n",
              "      <td>0</td>\n",
              "      <td>20596</td>\n",
              "      <td>320</td>\n",
              "      <td>50</td>\n",
              "      <td>2161</td>\n",
              "      <td>0</td>\n",
              "      <td>35</td>\n",
              "      <td>-1</td>\n",
              "      <td>157</td>\n",
              "    </tr>\n",
              "    <tr>\n",
              "      <th>7</th>\n",
              "      <td>10069716898669651698</td>\n",
              "      <td>0</td>\n",
              "      <td>14102100</td>\n",
              "      <td>1005</td>\n",
              "      <td>0</td>\n",
              "      <td>85f751fd</td>\n",
              "      <td>c4e18dd6</td>\n",
              "      <td>50e219e0</td>\n",
              "      <td>febd1138</td>\n",
              "      <td>82e27996</td>\n",
              "      <td>0f2161f8</td>\n",
              "      <td>a99f214a</td>\n",
              "      <td>49c5a80d</td>\n",
              "      <td>2ea4f8ba</td>\n",
              "      <td>1</td>\n",
              "      <td>0</td>\n",
              "      <td>21611</td>\n",
              "      <td>320</td>\n",
              "      <td>50</td>\n",
              "      <td>2480</td>\n",
              "      <td>3</td>\n",
              "      <td>297</td>\n",
              "      <td>100111</td>\n",
              "      <td>61</td>\n",
              "    </tr>\n",
              "    <tr>\n",
              "      <th>9</th>\n",
              "      <td>10083146080076673654</td>\n",
              "      <td>0</td>\n",
              "      <td>14102100</td>\n",
              "      <td>1005</td>\n",
              "      <td>0</td>\n",
              "      <td>1fbe01fe</td>\n",
              "      <td>f3845767</td>\n",
              "      <td>28905ebd</td>\n",
              "      <td>ecad2386</td>\n",
              "      <td>7801e8d9</td>\n",
              "      <td>07d7df22</td>\n",
              "      <td>a99f214a</td>\n",
              "      <td>849e866f</td>\n",
              "      <td>1aa0e912</td>\n",
              "      <td>1</td>\n",
              "      <td>0</td>\n",
              "      <td>15707</td>\n",
              "      <td>320</td>\n",
              "      <td>50</td>\n",
              "      <td>1722</td>\n",
              "      <td>0</td>\n",
              "      <td>35</td>\n",
              "      <td>-1</td>\n",
              "      <td>79</td>\n",
              "    </tr>\n",
              "    <tr>\n",
              "      <th>11</th>\n",
              "      <td>10098567175257284199</td>\n",
              "      <td>0</td>\n",
              "      <td>14102100</td>\n",
              "      <td>1005</td>\n",
              "      <td>0</td>\n",
              "      <td>2328ee8e</td>\n",
              "      <td>7804dea6</td>\n",
              "      <td>f028772b</td>\n",
              "      <td>ecad2386</td>\n",
              "      <td>7801e8d9</td>\n",
              "      <td>07d7df22</td>\n",
              "      <td>a99f214a</td>\n",
              "      <td>7420b2f5</td>\n",
              "      <td>c4cff2ea</td>\n",
              "      <td>1</td>\n",
              "      <td>0</td>\n",
              "      <td>20352</td>\n",
              "      <td>320</td>\n",
              "      <td>50</td>\n",
              "      <td>2333</td>\n",
              "      <td>0</td>\n",
              "      <td>39</td>\n",
              "      <td>-1</td>\n",
              "      <td>157</td>\n",
              "    </tr>\n",
              "  </tbody>\n",
              "</table>\n",
              "</div>"
            ],
            "text/plain": [
              "                      id  click      hour    C1  ...  C18  C19     C20  C21\n",
              "3   10032264153126123156      0  14102100  1005  ...    0   35  100084   79\n",
              "4   10045287352545275389      0  14102100  1005  ...    0   35      -1  157\n",
              "7   10069716898669651698      0  14102100  1005  ...    3  297  100111   61\n",
              "9   10083146080076673654      0  14102100  1005  ...    0   35      -1   79\n",
              "11  10098567175257284199      0  14102100  1005  ...    0   39      -1  157\n",
              "\n",
              "[5 rows x 24 columns]"
            ]
          },
          "metadata": {
            "tags": []
          },
          "execution_count": 39
        }
      ]
    },
    {
      "cell_type": "code",
      "metadata": {
        "id": "Q7G9aJoZ726Z",
        "colab": {
          "base_uri": "https://localhost:8080/",
          "height": 34
        },
        "outputId": "43457795-e715-4329-83d0-006b61d0367d"
      },
      "source": [
        "# calculate summary statistics\n",
        "data_mean, data_std = np.mean(train_out['C21']), np.std(train_out['C21'])\n",
        "# identify outliers\n",
        "cut_off = data_std * 3\n",
        "lower, upper = data_mean - cut_off, data_mean + cut_off\n",
        " \n",
        "# identify outliers\n",
        "outliers = [x for x in train_out['C21'] if x < lower or x > upper]\n",
        "print('Identified outliers: %d' % len(outliers))"
      ],
      "execution_count": null,
      "outputs": [
        {
          "output_type": "stream",
          "text": [
            "Identified outliers: 5761\n"
          ],
          "name": "stdout"
        }
      ]
    },
    {
      "cell_type": "code",
      "metadata": {
        "id": "s-3tSw8P8XoP",
        "colab": {
          "base_uri": "https://localhost:8080/",
          "height": 265
        },
        "outputId": "93b1c136-28aa-444a-bf71-2a29e1ba6639"
      },
      "source": [
        "plt.boxplot(train_out['C21'])\n",
        "plt.show()"
      ],
      "execution_count": null,
      "outputs": [
        {
          "output_type": "display_data",
          "data": {
            "image/png": "[encoded data removed]",
            "text/plain": [
              "<Figure size 432x288 with 1 Axes>"
            ]
          },
          "metadata": {
            "tags": [],
            "needs_background": "light"
          }
        }
      ]
    },
    {
      "cell_type": "code",
      "metadata": {
        "id": "G2RzH65482-m",
        "colab": {
          "base_uri": "https://localhost:8080/",
          "height": 374
        },
        "outputId": "89936739-2482-452b-8e72-cc44ae332bda"
      },
      "source": [
        "fig, ax = plt.subplots(figsize=(12,6))\n",
        "ax.scatter(train_out['C21'], train_out['C21'])\n",
        "\n",
        "plt.show()"
      ],
      "execution_count": null,
      "outputs": [
        {
          "output_type": "display_data",
          "data": {
            "image/png": "[encoded data removed]",
            "text/plain": [
              "<Figure size 864x432 with 1 Axes>"
            ]
          },
          "metadata": {
            "tags": [],
            "needs_background": "light"
          }
        }
      ]
    },
    {
      "cell_type": "code",
      "metadata": {
        "id": "lAEePnsnFQAT",
        "colab": {
          "base_uri": "https://localhost:8080/",
          "height": 34
        },
        "outputId": "bef5f9c3-a07d-491a-e584-a6a71e06a61c"
      },
      "source": [
        "# calculate summary statistics\n",
        "data_mean, data_std = np.mean(train['C14']), np.std(train['C14'])\n",
        "# identify outliers\n",
        "cut_off = data_std * 3\n",
        "lower, upper = data_mean - cut_off, data_mean + cut_off\n",
        "\n",
        "# identify outliers\n",
        "outliers = [x for x in train['C14'] if x < lower or x > upper]\n",
        "print('Identified outliers: %d' % len(outliers))\n"
      ],
      "execution_count": null,
      "outputs": [
        {
          "output_type": "stream",
          "text": [
            "Identified outliers: 18636\n"
          ],
          "name": "stdout"
        }
      ]
    },
    {
      "cell_type": "code",
      "metadata": {
        "id": "Gpwb6pEyOPeX",
        "colab": {
          "base_uri": "https://localhost:8080/",
          "height": 692
        },
        "outputId": "7d315c6c-2fd5-4980-cab1-5ee215a3baf4"
      },
      "source": [
        "plt.figure(figsize=(12,10)) \n",
        "sns.heatmap(train.corr(),annot=True,cmap ='YlGnBu')"
      ],
      "execution_count": null,
      "outputs": [
        {
          "output_type": "execute_result",
          "data": {
            "text/plain": [
              "<matplotlib.axes._subplots.AxesSubplot at 0x7f69fa607588>"
            ]
          },
          "metadata": {
            "tags": []
          },
          "execution_count": 17
        },
        {
          "output_type": "display_data",
          "data": {
            "image/png": "[encoded data removed]",
            "text/plain": [
              "<Figure size 864x720 with 2 Axes>"
            ]
          },
          "metadata": {
            "tags": [],
            "needs_background": "light"
          }
        }
      ]
    },
    {
      "cell_type": "markdown",
      "metadata": {
        "id": "636sOxA5FGoV"
      },
      "source": [
        "The correlation between C14 and C17 and  device_type and C1 is strong.\n"
      ]
    },
    {
      "cell_type": "code",
      "metadata": {
        "id": "eIA5vHTEEPD3",
        "colab": {
          "base_uri": "https://localhost:8080/",
          "height": 279
        },
        "outputId": "606459df-640e-4540-d39d-9489408bd4f8"
      },
      "source": [
        "train['click'].value_counts().plot.bar(facecolor = 'g',edgecolor= 'g')"
      ],
      "execution_count": null,
      "outputs": [
        {
          "output_type": "execute_result",
          "data": {
            "text/plain": [
              "<matplotlib.axes._subplots.AxesSubplot at 0x7f69f65969e8>"
            ]
          },
          "metadata": {
            "tags": []
          },
          "execution_count": 18
        },
        {
          "output_type": "display_data",
          "data": {
            "image/png": "[encoded data removed]",
            "text/plain": [
              "<Figure size 432x288 with 1 Axes>"
            ]
          },
          "metadata": {
            "tags": [],
            "needs_background": "light"
          }
        }
      ]
    },
    {
      "cell_type": "markdown",
      "metadata": {
        "id": "7cKc3Vnxy0mz"
      },
      "source": [
        " We need to encode our objects dtypes because machine learning algorithms can only learn from numbers (int, float, doubles .. ). one way is to use label encoding.\n",
        "\n"
      ]
    },
    {
      "cell_type": "code",
      "metadata": {
        "id": "G-otzscQoYX_",
        "colab": {
          "base_uri": "https://localhost:8080/",
          "height": 204
        },
        "outputId": "8c14a01f-f162-45eb-e61b-215663cc17a1"
      },
      "source": [
        "train_new = train.drop(['id', 'click', 'hour', 'C1', 'banner_pos','device_type', 'device_conn_type', 'C14','C15', 'C16', 'C17', 'C18', 'C19', 'C20', 'C21'], axis=1)\n",
        "train_new.head()"
      ],
      "execution_count": null,
      "outputs": [
        {
          "output_type": "execute_result",
          "data": {
            "text/html": [
              "<div>\n",
              "<style scoped>\n",
              "    .dataframe tbody tr th:only-of-type {\n",
              "        vertical-align: middle;\n",
              "    }\n",
              "\n",
              "    .dataframe tbody tr th {\n",
              "        vertical-align: top;\n",
              "    }\n",
              "\n",
              "    .dataframe thead th {\n",
              "        text-align: right;\n",
              "    }\n",
              "</style>\n",
              "<table border=\"1\" class=\"dataframe\">\n",
              "  <thead>\n",
              "    <tr style=\"text-align: right;\">\n",
              "      <th></th>\n",
              "      <th>site_id</th>\n",
              "      <th>site_domain</th>\n",
              "      <th>site_category</th>\n",
              "      <th>app_id</th>\n",
              "      <th>app_domain</th>\n",
              "      <th>app_category</th>\n",
              "      <th>device_id</th>\n",
              "      <th>device_ip</th>\n",
              "      <th>device_model</th>\n",
              "    </tr>\n",
              "  </thead>\n",
              "  <tbody>\n",
              "    <tr>\n",
              "      <th>0</th>\n",
              "      <td>83a0ad1a</td>\n",
              "      <td>5c9ae867</td>\n",
              "      <td>f028772b</td>\n",
              "      <td>ecad2386</td>\n",
              "      <td>7801e8d9</td>\n",
              "      <td>07d7df22</td>\n",
              "      <td>a99f214a</td>\n",
              "      <td>f17268a6</td>\n",
              "      <td>575d0d2a</td>\n",
              "    </tr>\n",
              "    <tr>\n",
              "      <th>1</th>\n",
              "      <td>84c7ba46</td>\n",
              "      <td>c4e18dd6</td>\n",
              "      <td>50e219e0</td>\n",
              "      <td>ecad2386</td>\n",
              "      <td>7801e8d9</td>\n",
              "      <td>07d7df22</td>\n",
              "      <td>e62f1261</td>\n",
              "      <td>7b485f88</td>\n",
              "      <td>cf19f7f7</td>\n",
              "    </tr>\n",
              "    <tr>\n",
              "      <th>2</th>\n",
              "      <td>85f751fd</td>\n",
              "      <td>c4e18dd6</td>\n",
              "      <td>50e219e0</td>\n",
              "      <td>e2fcccd2</td>\n",
              "      <td>5c5a694b</td>\n",
              "      <td>0f2161f8</td>\n",
              "      <td>bd7c02a1</td>\n",
              "      <td>51197d98</td>\n",
              "      <td>2203a096</td>\n",
              "    </tr>\n",
              "    <tr>\n",
              "      <th>3</th>\n",
              "      <td>1fbe01fe</td>\n",
              "      <td>f3845767</td>\n",
              "      <td>28905ebd</td>\n",
              "      <td>ecad2386</td>\n",
              "      <td>7801e8d9</td>\n",
              "      <td>07d7df22</td>\n",
              "      <td>a99f214a</td>\n",
              "      <td>27cab2a3</td>\n",
              "      <td>ecb851b2</td>\n",
              "    </tr>\n",
              "    <tr>\n",
              "      <th>4</th>\n",
              "      <td>85f751fd</td>\n",
              "      <td>c4e18dd6</td>\n",
              "      <td>50e219e0</td>\n",
              "      <td>1779deee</td>\n",
              "      <td>2347f47a</td>\n",
              "      <td>f95efa07</td>\n",
              "      <td>a99f214a</td>\n",
              "      <td>d5d1473b</td>\n",
              "      <td>cdfde03b</td>\n",
              "    </tr>\n",
              "  </tbody>\n",
              "</table>\n",
              "</div>"
            ],
            "text/plain": [
              "    site_id site_domain site_category  ... device_id device_ip device_model\n",
              "0  83a0ad1a    5c9ae867      f028772b  ...  a99f214a  f17268a6     575d0d2a\n",
              "1  84c7ba46    c4e18dd6      50e219e0  ...  e62f1261  7b485f88     cf19f7f7\n",
              "2  85f751fd    c4e18dd6      50e219e0  ...  bd7c02a1  51197d98     2203a096\n",
              "3  1fbe01fe    f3845767      28905ebd  ...  a99f214a  27cab2a3     ecb851b2\n",
              "4  85f751fd    c4e18dd6      50e219e0  ...  a99f214a  d5d1473b     cdfde03b\n",
              "\n",
              "[5 rows x 9 columns]"
            ]
          },
          "metadata": {
            "tags": []
          },
          "execution_count": 44
        }
      ]
    },
    {
      "cell_type": "code",
      "metadata": {
        "id": "PFSv8wllqGHN"
      },
      "source": [
        "le = preprocessing.LabelEncoder()\n",
        "train_new = train_new.apply(le.fit_transform)"
      ],
      "execution_count": null,
      "outputs": []
    },
    {
      "cell_type": "code",
      "metadata": {
        "id": "9_ZDp5znvO1m",
        "colab": {
          "base_uri": "https://localhost:8080/",
          "height": 204
        },
        "outputId": "0bfd0b47-2e1a-4b48-f8de-55b62e06e211"
      },
      "source": [
        "train_new.head()"
      ],
      "execution_count": null,
      "outputs": [
        {
          "output_type": "execute_result",
          "data": {
            "text/html": [
              "<div>\n",
              "<style scoped>\n",
              "    .dataframe tbody tr th:only-of-type {\n",
              "        vertical-align: middle;\n",
              "    }\n",
              "\n",
              "    .dataframe tbody tr th {\n",
              "        vertical-align: top;\n",
              "    }\n",
              "\n",
              "    .dataframe thead th {\n",
              "        text-align: right;\n",
              "    }\n",
              "</style>\n",
              "<table border=\"1\" class=\"dataframe\">\n",
              "  <thead>\n",
              "    <tr style=\"text-align: right;\">\n",
              "      <th></th>\n",
              "      <th>site_id</th>\n",
              "      <th>site_domain</th>\n",
              "      <th>site_category</th>\n",
              "      <th>app_id</th>\n",
              "      <th>app_domain</th>\n",
              "      <th>app_category</th>\n",
              "      <th>device_id</th>\n",
              "      <th>device_ip</th>\n",
              "      <th>device_model</th>\n",
              "    </tr>\n",
              "  </thead>\n",
              "  <tbody>\n",
              "    <tr>\n",
              "      <th>0</th>\n",
              "      <td>1378</td>\n",
              "      <td>1058</td>\n",
              "      <td>20</td>\n",
              "      <td>2946</td>\n",
              "      <td>93</td>\n",
              "      <td>0</td>\n",
              "      <td>100030</td>\n",
              "      <td>523564</td>\n",
              "      <td>1772</td>\n",
              "    </tr>\n",
              "    <tr>\n",
              "      <th>1</th>\n",
              "      <td>1391</td>\n",
              "      <td>2221</td>\n",
              "      <td>5</td>\n",
              "      <td>2946</td>\n",
              "      <td>93</td>\n",
              "      <td>0</td>\n",
              "      <td>135393</td>\n",
              "      <td>267529</td>\n",
              "      <td>4169</td>\n",
              "    </tr>\n",
              "    <tr>\n",
              "      <th>2</th>\n",
              "      <td>1401</td>\n",
              "      <td>2221</td>\n",
              "      <td>5</td>\n",
              "      <td>2819</td>\n",
              "      <td>69</td>\n",
              "      <td>3</td>\n",
              "      <td>111611</td>\n",
              "      <td>175939</td>\n",
              "      <td>644</td>\n",
              "    </tr>\n",
              "    <tr>\n",
              "      <th>3</th>\n",
              "      <td>323</td>\n",
              "      <td>2717</td>\n",
              "      <td>1</td>\n",
              "      <td>2946</td>\n",
              "      <td>93</td>\n",
              "      <td>0</td>\n",
              "      <td>100030</td>\n",
              "      <td>86658</td>\n",
              "      <td>4783</td>\n",
              "    </tr>\n",
              "    <tr>\n",
              "      <th>4</th>\n",
              "      <td>1401</td>\n",
              "      <td>2221</td>\n",
              "      <td>5</td>\n",
              "      <td>268</td>\n",
              "      <td>25</td>\n",
              "      <td>25</td>\n",
              "      <td>100030</td>\n",
              "      <td>463740</td>\n",
              "      <td>4147</td>\n",
              "    </tr>\n",
              "  </tbody>\n",
              "</table>\n",
              "</div>"
            ],
            "text/plain": [
              "   site_id  site_domain  site_category  ...  device_id  device_ip  device_model\n",
              "0     1378         1058             20  ...     100030     523564          1772\n",
              "1     1391         2221              5  ...     135393     267529          4169\n",
              "2     1401         2221              5  ...     111611     175939           644\n",
              "3      323         2717              1  ...     100030      86658          4783\n",
              "4     1401         2221              5  ...     100030     463740          4147\n",
              "\n",
              "[5 rows x 9 columns]"
            ]
          },
          "metadata": {
            "tags": []
          },
          "execution_count": 46
        }
      ]
    },
    {
      "cell_type": "code",
      "metadata": {
        "id": "oabnPxnZvTzQ"
      },
      "source": [
        "columns_to_overwrite = ['site_id', 'site_domain', 'site_category', 'app_id', 'app_domain','app_category', 'device_id', 'device_ip', 'device_model']\n",
        "train.drop(labels=columns_to_overwrite, axis=\"columns\", inplace=True)\n",
        "train[columns_to_overwrite] = train_new[columns_to_overwrite]"
      ],
      "execution_count": null,
      "outputs": []
    },
    {
      "cell_type": "code",
      "metadata": {
        "id": "CcXcfpdVxEIm",
        "colab": {
          "base_uri": "https://localhost:8080/",
          "height": 224
        },
        "outputId": "cc40a10c-9243-4e7e-99dc-b1473810d6d8"
      },
      "source": [
        "train.head()"
      ],
      "execution_count": null,
      "outputs": [
        {
          "output_type": "execute_result",
          "data": {
            "text/html": [
              "<div>\n",
              "<style scoped>\n",
              "    .dataframe tbody tr th:only-of-type {\n",
              "        vertical-align: middle;\n",
              "    }\n",
              "\n",
              "    .dataframe tbody tr th {\n",
              "        vertical-align: top;\n",
              "    }\n",
              "\n",
              "    .dataframe thead th {\n",
              "        text-align: right;\n",
              "    }\n",
              "</style>\n",
              "<table border=\"1\" class=\"dataframe\">\n",
              "  <thead>\n",
              "    <tr style=\"text-align: right;\">\n",
              "      <th></th>\n",
              "      <th>id</th>\n",
              "      <th>click</th>\n",
              "      <th>hour</th>\n",
              "      <th>C1</th>\n",
              "      <th>banner_pos</th>\n",
              "      <th>device_type</th>\n",
              "      <th>device_conn_type</th>\n",
              "      <th>C14</th>\n",
              "      <th>C15</th>\n",
              "      <th>C16</th>\n",
              "      <th>C17</th>\n",
              "      <th>C18</th>\n",
              "      <th>C19</th>\n",
              "      <th>C20</th>\n",
              "      <th>C21</th>\n",
              "      <th>site_id</th>\n",
              "      <th>site_domain</th>\n",
              "      <th>site_category</th>\n",
              "      <th>app_id</th>\n",
              "      <th>app_domain</th>\n",
              "      <th>app_category</th>\n",
              "      <th>device_id</th>\n",
              "      <th>device_ip</th>\n",
              "      <th>device_model</th>\n",
              "    </tr>\n",
              "  </thead>\n",
              "  <tbody>\n",
              "    <tr>\n",
              "      <th>0</th>\n",
              "      <td>10016879928769896114</td>\n",
              "      <td>0</td>\n",
              "      <td>14102100</td>\n",
              "      <td>1005</td>\n",
              "      <td>0</td>\n",
              "      <td>1</td>\n",
              "      <td>0</td>\n",
              "      <td>18945</td>\n",
              "      <td>320</td>\n",
              "      <td>50</td>\n",
              "      <td>2153</td>\n",
              "      <td>3</td>\n",
              "      <td>427</td>\n",
              "      <td>100063</td>\n",
              "      <td>61</td>\n",
              "      <td>1378</td>\n",
              "      <td>1058</td>\n",
              "      <td>20</td>\n",
              "      <td>2946</td>\n",
              "      <td>93</td>\n",
              "      <td>0</td>\n",
              "      <td>100030</td>\n",
              "      <td>523564</td>\n",
              "      <td>1772</td>\n",
              "    </tr>\n",
              "    <tr>\n",
              "      <th>1</th>\n",
              "      <td>10018076683759767024</td>\n",
              "      <td>1</td>\n",
              "      <td>14102100</td>\n",
              "      <td>1002</td>\n",
              "      <td>0</td>\n",
              "      <td>0</td>\n",
              "      <td>0</td>\n",
              "      <td>21300</td>\n",
              "      <td>320</td>\n",
              "      <td>50</td>\n",
              "      <td>2446</td>\n",
              "      <td>3</td>\n",
              "      <td>171</td>\n",
              "      <td>100228</td>\n",
              "      <td>156</td>\n",
              "      <td>1391</td>\n",
              "      <td>2221</td>\n",
              "      <td>5</td>\n",
              "      <td>2946</td>\n",
              "      <td>93</td>\n",
              "      <td>0</td>\n",
              "      <td>135393</td>\n",
              "      <td>267529</td>\n",
              "      <td>4169</td>\n",
              "    </tr>\n",
              "    <tr>\n",
              "      <th>2</th>\n",
              "      <td>10022961149355219548</td>\n",
              "      <td>0</td>\n",
              "      <td>14102100</td>\n",
              "      <td>1005</td>\n",
              "      <td>0</td>\n",
              "      <td>1</td>\n",
              "      <td>0</td>\n",
              "      <td>4687</td>\n",
              "      <td>320</td>\n",
              "      <td>50</td>\n",
              "      <td>423</td>\n",
              "      <td>2</td>\n",
              "      <td>39</td>\n",
              "      <td>100148</td>\n",
              "      <td>32</td>\n",
              "      <td>1401</td>\n",
              "      <td>2221</td>\n",
              "      <td>5</td>\n",
              "      <td>2819</td>\n",
              "      <td>69</td>\n",
              "      <td>3</td>\n",
              "      <td>111611</td>\n",
              "      <td>175939</td>\n",
              "      <td>644</td>\n",
              "    </tr>\n",
              "    <tr>\n",
              "      <th>3</th>\n",
              "      <td>10032264153126123156</td>\n",
              "      <td>0</td>\n",
              "      <td>14102100</td>\n",
              "      <td>1005</td>\n",
              "      <td>0</td>\n",
              "      <td>1</td>\n",
              "      <td>0</td>\n",
              "      <td>15705</td>\n",
              "      <td>320</td>\n",
              "      <td>50</td>\n",
              "      <td>1722</td>\n",
              "      <td>0</td>\n",
              "      <td>35</td>\n",
              "      <td>100084</td>\n",
              "      <td>79</td>\n",
              "      <td>323</td>\n",
              "      <td>2717</td>\n",
              "      <td>1</td>\n",
              "      <td>2946</td>\n",
              "      <td>93</td>\n",
              "      <td>0</td>\n",
              "      <td>100030</td>\n",
              "      <td>86658</td>\n",
              "      <td>4783</td>\n",
              "    </tr>\n",
              "    <tr>\n",
              "      <th>4</th>\n",
              "      <td>10045287352545275389</td>\n",
              "      <td>0</td>\n",
              "      <td>14102100</td>\n",
              "      <td>1005</td>\n",
              "      <td>0</td>\n",
              "      <td>1</td>\n",
              "      <td>0</td>\n",
              "      <td>20596</td>\n",
              "      <td>320</td>\n",
              "      <td>50</td>\n",
              "      <td>2161</td>\n",
              "      <td>0</td>\n",
              "      <td>35</td>\n",
              "      <td>-1</td>\n",
              "      <td>157</td>\n",
              "      <td>1401</td>\n",
              "      <td>2221</td>\n",
              "      <td>5</td>\n",
              "      <td>268</td>\n",
              "      <td>25</td>\n",
              "      <td>25</td>\n",
              "      <td>100030</td>\n",
              "      <td>463740</td>\n",
              "      <td>4147</td>\n",
              "    </tr>\n",
              "  </tbody>\n",
              "</table>\n",
              "</div>"
            ],
            "text/plain": [
              "                     id  click      hour  ...  device_id  device_ip  device_model\n",
              "0  10016879928769896114      0  14102100  ...     100030     523564          1772\n",
              "1  10018076683759767024      1  14102100  ...     135393     267529          4169\n",
              "2  10022961149355219548      0  14102100  ...     111611     175939           644\n",
              "3  10032264153126123156      0  14102100  ...     100030      86658          4783\n",
              "4  10045287352545275389      0  14102100  ...     100030     463740          4147\n",
              "\n",
              "[5 rows x 24 columns]"
            ]
          },
          "metadata": {
            "tags": []
          },
          "execution_count": 48
        }
      ]
    },
    {
      "cell_type": "code",
      "metadata": {
        "id": "rOIsTuA9ydoI"
      },
      "source": [
        "features = train.loc[:,train.columns!='click'].values[:,1:]\n",
        "scalar = MinMaxScaler((-1,1))\n",
        "x = scalar.fit_transform(features)\n",
        "y = train.loc[:,'click'].values\n"
      ],
      "execution_count": null,
      "outputs": []
    },
    {
      "cell_type": "code",
      "metadata": {
        "id": "um8i0_4G3V1G",
        "colab": {
          "base_uri": "https://localhost:8080/",
          "height": 34
        },
        "outputId": "8ac9ed03-7898-4d8b-c09f-63db48c6d6c1"
      },
      "source": [
        "x_train, x_test, y_train, y_test = train_test_split(x, y, test_size=0.2,random_state=1)\n",
        "model = LinearSVC()\n",
        "model.fit(x_train, y_train)\n",
        "y_pred = model.predict(x_test)\n",
        "print(accuracy_score(y_test, y_pred))"
      ],
      "execution_count": null,
      "outputs": [
        {
          "output_type": "stream",
          "text": [
            "0.827645\n"
          ],
          "name": "stdout"
        }
      ]
    },
    {
      "cell_type": "code",
      "metadata": {
        "id": "BQ9JqTww5jcx",
        "colab": {
          "base_uri": "https://localhost:8080/",
          "height": 224
        },
        "outputId": "88a4e50f-f7ca-4fdf-c6c4-0bb69723311d"
      },
      "source": [
        "#deleting C14 and C1 since they were highly correlated. Also deleting outliers\n",
        "\n",
        "train1 = train.drop(['id','C14','C1'], axis= 1)\n",
        "train1.head()"
      ],
      "execution_count": null,
      "outputs": [
        {
          "output_type": "execute_result",
          "data": {
            "text/html": [
              "<div>\n",
              "<style scoped>\n",
              "    .dataframe tbody tr th:only-of-type {\n",
              "        vertical-align: middle;\n",
              "    }\n",
              "\n",
              "    .dataframe tbody tr th {\n",
              "        vertical-align: top;\n",
              "    }\n",
              "\n",
              "    .dataframe thead th {\n",
              "        text-align: right;\n",
              "    }\n",
              "</style>\n",
              "<table border=\"1\" class=\"dataframe\">\n",
              "  <thead>\n",
              "    <tr style=\"text-align: right;\">\n",
              "      <th></th>\n",
              "      <th>click</th>\n",
              "      <th>hour</th>\n",
              "      <th>banner_pos</th>\n",
              "      <th>device_type</th>\n",
              "      <th>device_conn_type</th>\n",
              "      <th>C15</th>\n",
              "      <th>C16</th>\n",
              "      <th>C17</th>\n",
              "      <th>C18</th>\n",
              "      <th>C19</th>\n",
              "      <th>C20</th>\n",
              "      <th>C21</th>\n",
              "      <th>site_id</th>\n",
              "      <th>site_domain</th>\n",
              "      <th>site_category</th>\n",
              "      <th>app_id</th>\n",
              "      <th>app_domain</th>\n",
              "      <th>app_category</th>\n",
              "      <th>device_id</th>\n",
              "      <th>device_ip</th>\n",
              "      <th>device_model</th>\n",
              "    </tr>\n",
              "  </thead>\n",
              "  <tbody>\n",
              "    <tr>\n",
              "      <th>0</th>\n",
              "      <td>0</td>\n",
              "      <td>14102100</td>\n",
              "      <td>0</td>\n",
              "      <td>1</td>\n",
              "      <td>0</td>\n",
              "      <td>320</td>\n",
              "      <td>50</td>\n",
              "      <td>2153</td>\n",
              "      <td>3</td>\n",
              "      <td>427</td>\n",
              "      <td>100063</td>\n",
              "      <td>61</td>\n",
              "      <td>1378</td>\n",
              "      <td>1058</td>\n",
              "      <td>20</td>\n",
              "      <td>2946</td>\n",
              "      <td>93</td>\n",
              "      <td>0</td>\n",
              "      <td>100030</td>\n",
              "      <td>523564</td>\n",
              "      <td>1772</td>\n",
              "    </tr>\n",
              "    <tr>\n",
              "      <th>1</th>\n",
              "      <td>1</td>\n",
              "      <td>14102100</td>\n",
              "      <td>0</td>\n",
              "      <td>0</td>\n",
              "      <td>0</td>\n",
              "      <td>320</td>\n",
              "      <td>50</td>\n",
              "      <td>2446</td>\n",
              "      <td>3</td>\n",
              "      <td>171</td>\n",
              "      <td>100228</td>\n",
              "      <td>156</td>\n",
              "      <td>1391</td>\n",
              "      <td>2221</td>\n",
              "      <td>5</td>\n",
              "      <td>2946</td>\n",
              "      <td>93</td>\n",
              "      <td>0</td>\n",
              "      <td>135393</td>\n",
              "      <td>267529</td>\n",
              "      <td>4169</td>\n",
              "    </tr>\n",
              "    <tr>\n",
              "      <th>2</th>\n",
              "      <td>0</td>\n",
              "      <td>14102100</td>\n",
              "      <td>0</td>\n",
              "      <td>1</td>\n",
              "      <td>0</td>\n",
              "      <td>320</td>\n",
              "      <td>50</td>\n",
              "      <td>423</td>\n",
              "      <td>2</td>\n",
              "      <td>39</td>\n",
              "      <td>100148</td>\n",
              "      <td>32</td>\n",
              "      <td>1401</td>\n",
              "      <td>2221</td>\n",
              "      <td>5</td>\n",
              "      <td>2819</td>\n",
              "      <td>69</td>\n",
              "      <td>3</td>\n",
              "      <td>111611</td>\n",
              "      <td>175939</td>\n",
              "      <td>644</td>\n",
              "    </tr>\n",
              "    <tr>\n",
              "      <th>3</th>\n",
              "      <td>0</td>\n",
              "      <td>14102100</td>\n",
              "      <td>0</td>\n",
              "      <td>1</td>\n",
              "      <td>0</td>\n",
              "      <td>320</td>\n",
              "      <td>50</td>\n",
              "      <td>1722</td>\n",
              "      <td>0</td>\n",
              "      <td>35</td>\n",
              "      <td>100084</td>\n",
              "      <td>79</td>\n",
              "      <td>323</td>\n",
              "      <td>2717</td>\n",
              "      <td>1</td>\n",
              "      <td>2946</td>\n",
              "      <td>93</td>\n",
              "      <td>0</td>\n",
              "      <td>100030</td>\n",
              "      <td>86658</td>\n",
              "      <td>4783</td>\n",
              "    </tr>\n",
              "    <tr>\n",
              "      <th>4</th>\n",
              "      <td>0</td>\n",
              "      <td>14102100</td>\n",
              "      <td>0</td>\n",
              "      <td>1</td>\n",
              "      <td>0</td>\n",
              "      <td>320</td>\n",
              "      <td>50</td>\n",
              "      <td>2161</td>\n",
              "      <td>0</td>\n",
              "      <td>35</td>\n",
              "      <td>-1</td>\n",
              "      <td>157</td>\n",
              "      <td>1401</td>\n",
              "      <td>2221</td>\n",
              "      <td>5</td>\n",
              "      <td>268</td>\n",
              "      <td>25</td>\n",
              "      <td>25</td>\n",
              "      <td>100030</td>\n",
              "      <td>463740</td>\n",
              "      <td>4147</td>\n",
              "    </tr>\n",
              "  </tbody>\n",
              "</table>\n",
              "</div>"
            ],
            "text/plain": [
              "   click      hour  banner_pos  ...  device_id  device_ip  device_model\n",
              "0      0  14102100           0  ...     100030     523564          1772\n",
              "1      1  14102100           0  ...     135393     267529          4169\n",
              "2      0  14102100           0  ...     111611     175939           644\n",
              "3      0  14102100           0  ...     100030      86658          4783\n",
              "4      0  14102100           0  ...     100030     463740          4147\n",
              "\n",
              "[5 rows x 21 columns]"
            ]
          },
          "metadata": {
            "tags": []
          },
          "execution_count": 56
        }
      ]
    },
    {
      "cell_type": "code",
      "metadata": {
        "id": "8yeCPrlYAZ50",
        "colab": {
          "base_uri": "https://localhost:8080/",
          "height": 34
        },
        "outputId": "89784bba-f28b-48e8-991b-d02625f36f84"
      },
      "source": [
        "features = train1.loc[:,train1.columns!='click'].values[:,1:]\n",
        "scalar = MinMaxScaler((-1,1))\n",
        "x1 = scalar.fit_transform(features)\n",
        "y1 = train1.loc[:,'click'].values\n",
        "\n",
        "x_1, x_ts, y_1, y_ts = train_test_split(x1, y1, test_size=0.2,random_state=1)\n",
        "model = LinearSVC()\n",
        "model.fit(x_1, y_1)\n",
        "y_pred = model.predict(x_1)\n",
        "print(accuracy_score(y_1, y_pred))"
      ],
      "execution_count": null,
      "outputs": [
        {
          "output_type": "stream",
          "text": [
            "0.82872625\n"
          ],
          "name": "stdout"
        }
      ]
    },
    {
      "cell_type": "code",
      "metadata": {
        "id": "Y5uXdH5vDqxb",
        "colab": {
          "base_uri": "https://localhost:8080/",
          "height": 102
        },
        "outputId": "00e245c4-ca32-4e6f-b6ee-3c60dec0a182"
      },
      "source": [
        "train2 = train.drop(['id','C14'], axis= 1)\n",
        "train2.keys()"
      ],
      "execution_count": null,
      "outputs": [
        {
          "output_type": "execute_result",
          "data": {
            "text/plain": [
              "Index(['click', 'hour', 'C1', 'banner_pos', 'device_type', 'device_conn_type',\n",
              "       'C15', 'C16', 'C17', 'C18', 'C19', 'C20', 'C21', 'site_id',\n",
              "       'site_domain', 'site_category', 'app_id', 'app_domain', 'app_category',\n",
              "       'device_id', 'device_ip', 'device_model'],\n",
              "      dtype='object')"
            ]
          },
          "metadata": {
            "tags": []
          },
          "execution_count": 28
        }
      ]
    },
    {
      "cell_type": "code",
      "metadata": {
        "id": "AisrGwO_D2ER",
        "colab": {
          "base_uri": "https://localhost:8080/",
          "height": 34
        },
        "outputId": "1eadd7f3-2a93-4597-be70-8f879f5b8f10"
      },
      "source": [
        "features = train2.loc[:,train2.columns!='click'].values[:,1:]\n",
        "scalar = MinMaxScaler((-1,1))\n",
        "x2 = scalar.fit_transform(features)\n",
        "y2 = train2.loc[:,'click'].values\n",
        "\n",
        "x_2, x_tes, y_2, y_tes = train_test_split(x2, y2, test_size=0.2,random_state=1)\n",
        "model = LinearSVC()\n",
        "model.fit(x_2, y_2)\n",
        "y_pred = model.predict(x_2)\n",
        "print(accuracy_score(y_2, y_pred))"
      ],
      "execution_count": null,
      "outputs": [
        {
          "output_type": "stream",
          "text": [
            "0.828725\n"
          ],
          "name": "stdout"
        }
      ]
    },
    {
      "cell_type": "markdown",
      "metadata": {
        "id": "GSUypl66aATd"
      },
      "source": [
        "Until now the model on 'train1' works better."
      ]
    },
    {
      "cell_type": "code",
      "metadata": {
        "id": "mneckHPpaDuK"
      },
      "source": [],
      "execution_count": null,
      "outputs": []
    }
  ]
}